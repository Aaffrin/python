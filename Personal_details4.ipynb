{
  "nbformat": 4,
  "nbformat_minor": 0,
  "metadata": {
    "colab": {
      "name": "Personal details4.ipynb",
      "provenance": [],
      "authorship_tag": "ABX9TyPa1/sla2cc5Ya2YNuwnGoA",
      "include_colab_link": true
    },
    "kernelspec": {
      "name": "python3",
      "display_name": "Python 3"
    },
    "language_info": {
      "name": "python"
    }
  },
  "cells": [
    {
      "cell_type": "markdown",
      "metadata": {
        "id": "view-in-github",
        "colab_type": "text"
      },
      "source": [
        "<a href=\"https://colab.research.google.com/github/Aaffrin/python/blob/main/Personal_details4.ipynb\" target=\"_parent\"><img src=\"https://colab.research.google.com/assets/colab-badge.svg\" alt=\"Open In Colab\"/></a>"
      ]
    },
    {
      "cell_type": "code",
      "metadata": {
        "colab": {
          "base_uri": "https://localhost:8080/"
        },
        "id": "D9p6wanGUu66",
        "outputId": "0eae034c-0a14-40e3-c192-df230f960dda"
      },
      "source": [
        "name=(input(\"Enter your Name : \"))\n",
        "age=(input(\"Enter your Age : \"))\n",
        "address=(input(\"Enter your Address : \"))\n",
        "salary=(input(\"Enter your Salary : \"))\n",
        "no=(input(\"Enter your Mobile Number\"))\n",
        "print(\"NAME :\",name)\n",
        "print(\"\\nAGE :\",age)\n",
        "print(\"\\nADDRESS :\",address)\n",
        "print(\"\\nSALARY :\",salary)\n",
        "print(\"\\nMOBILE NUMBER :\",no)"
      ],
      "execution_count": 1,
      "outputs": [
        {
          "output_type": "stream",
          "text": [
            "Enter your Name : Abc\n",
            "Enter your Age : 20\n",
            "Enter your Address : Salem\n",
            "Enter your Salary : 1,00,000\n",
            "Enter your Mobile Number9489032434\n",
            "NAME : Abc\n",
            "\n",
            "AGE : 20\n",
            "\n",
            "ADDRESS : Salem\n",
            "\n",
            "SALARY : 1,00,000\n",
            "\n",
            "MOBILE NUMBER : 9489032434\n"
          ],
          "name": "stdout"
        }
      ]
    }
  ]
}