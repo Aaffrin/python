{
  "nbformat": 4,
  "nbformat_minor": 0,
  "metadata": {
    "colab": {
      "name": "Personal details.ipynb",
      "provenance": [],
      "authorship_tag": "ABX9TyPa1/sla2cc5Ya2YNuwnGoA",
      "include_colab_link": true
    },
    "kernelspec": {
      "name": "python3",
      "display_name": "Python 3"
    },
    "language_info": {
      "name": "python"
    }
  },
  "cells": [
    {
      "cell_type": "markdown",
      "metadata": {
        "id": "view-in-github",
        "colab_type": "text"
      },
      "source": [
        "<a href=\"https://colab.research.google.com/github/Aaffrin/python/blob/main/Personal_details.ipynb\" target=\"_parent\"><img src=\"https://colab.research.google.com/assets/colab-badge.svg\" alt=\"Open In Colab\"/></a>"
      ]
    },
    {
      "cell_type": "code",
      "metadata": {
        "colab": {
          "base_uri": "https://localhost:8080/"
        },
        "id": "Fn9oVQKYP-B_",
        "outputId": "3fbac50c-b7bd-4c46-b1aa-ffc34769efbd"
      },
      "source": [
        "name=(input(\"Enter your Name : \"))\n",
        "age=(input(\"Enter your Age : \"))\n",
        "address=(input(\"Enter your Address : \"))\n",
        "salary=(input(\"Enter your Salary : \"))\n",
        "no=(input(\"Enter your Mobile Number\"))\n",
        "print(\"NAME :\",name)\n",
        "print(\"\\nAGE :\",age)\n",
        "print(\"\\nADDRESS :\",address)\n",
        "print(\"\\nSALARY :\",salary)\n",
        "print(\"\\nMOBILE NUMBER :\",no)"
      ],
      "execution_count": 1,
      "outputs": [
        {
          "output_type": "stream",
          "text": [
            "Enter your Name : Aaffrin\n",
            "Enter your Age : 20\n",
            "Enter your Address : Salem main road \n",
            "Enter your Salary : 50,000\n",
            "Enter your Mobile Number6382198752\n",
            "NAME : Aaffrin\n",
            "\n",
            "AGE : 20\n",
            "\n",
            "ADDRESS : Salem main road \n",
            "\n",
            "SALARY : 50,000\n",
            "\n",
            "MOBILE NUMBER : 6382198752\n"
          ],
          "name": "stdout"
        }
      ]
    }
  ]
}