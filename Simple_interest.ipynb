{
  "nbformat": 4,
  "nbformat_minor": 0,
  "metadata": {
    "colab": {
      "name": "Simple interest.ipynb",
      "provenance": [],
      "authorship_tag": "ABX9TyMjIMj+PL+cGpeLs8UrBY0V",
      "include_colab_link": true
    },
    "kernelspec": {
      "name": "python3",
      "display_name": "Python 3"
    },
    "language_info": {
      "name": "python"
    }
  },
  "cells": [
    {
      "cell_type": "markdown",
      "metadata": {
        "id": "view-in-github",
        "colab_type": "text"
      },
      "source": [
        "<a href=\"https://colab.research.google.com/github/Aaffrin/python/blob/main/Simple_interest.ipynb\" target=\"_parent\"><img src=\"https://colab.research.google.com/assets/colab-badge.svg\" alt=\"Open In Colab\"/></a>"
      ]
    },
    {
      "cell_type": "code",
      "metadata": {
        "colab": {
          "base_uri": "https://localhost:8080/"
        },
        "id": "vicqgF-i7tym",
        "outputId": "5a9ea8a3-5f62-4386-de11-ad49cd51e830"
      },
      "source": [
        " \n",
        "P = float(input(\"Enter the principal amount : \"))\n",
        " \n",
        "N = float(input(\"Enter the number of years : \"))\n",
        " \n",
        "R = float(input(\"Enter the rate of interest : \"))\n",
        " \n",
        " \n",
        "SI = (P * N * R)/100\n",
        " \n",
        " \n",
        "print(\"Simple interest : {}\".format(SI))"
      ],
      "execution_count": 1,
      "outputs": [
        {
          "output_type": "stream",
          "text": [
            "Enter the principal amount : 1000\n",
            "Enter the number of years : 2\n",
            "Enter the rate of interest : 1\n",
            "Simple interest : 20.0\n"
          ],
          "name": "stdout"
        }
      ]
    }
  ]
}