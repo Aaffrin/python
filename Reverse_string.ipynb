{
  "nbformat": 4,
  "nbformat_minor": 0,
  "metadata": {
    "colab": {
      "name": "Reverse string.ipynb",
      "provenance": [],
      "authorship_tag": "ABX9TyN0WqzOEQFZEwzusLq0D4aH",
      "include_colab_link": true
    },
    "kernelspec": {
      "name": "python3",
      "display_name": "Python 3"
    },
    "language_info": {
      "name": "python"
    }
  },
  "cells": [
    {
      "cell_type": "markdown",
      "metadata": {
        "id": "view-in-github",
        "colab_type": "text"
      },
      "source": [
        "<a href=\"https://colab.research.google.com/github/Aaffrin/python/blob/main/Reverse_string.ipynb\" target=\"_parent\"><img src=\"https://colab.research.google.com/assets/colab-badge.svg\" alt=\"Open In Colab\"/></a>"
      ]
    },
    {
      "cell_type": "code",
      "metadata": {
        "colab": {
          "base_uri": "https://localhost:8080/"
        },
        "id": "iY4ODyWOKT88",
        "outputId": "0326e153-adc1-4123-e719-607b121c7fca"
      },
      "source": [
        "sentence = \"Hello I love python\"\n",
        "word_list = sentence.split()\n",
        "reversed_list = word_list[:: -1]\n",
        "reversed_sentence = \" \".join(reversed_list)\n",
        "print(reversed_sentence)"
      ],
      "execution_count": 1,
      "outputs": [
        {
          "output_type": "stream",
          "text": [
            "python love I Hello\n"
          ],
          "name": "stdout"
        }
      ]
    }
  ]
}